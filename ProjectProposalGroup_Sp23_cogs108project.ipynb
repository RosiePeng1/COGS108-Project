{
 "cells": [
  {
   "cell_type": "markdown",
   "metadata": {},
   "source": [
    "# COGS 108 - Final Project Proposal"
   ]
  },
  {
   "cell_type": "markdown",
   "metadata": {},
   "source": [
    "# Names\n",
    "\n",
    "- Xingyu Chen\n",
    "- Yuchen Guo\n",
    "- Zeyu Liu\n",
    "- Rosie Peng\n",
    "- Zhekai Wang"
   ]
  },
  {
   "cell_type": "markdown",
   "metadata": {},
   "source": [
    "# Research Question"
   ]
  },
  {
   "cell_type": "markdown",
   "metadata": {},
   "source": [
    "How does people’s health awareness affect their weight in the U.S. during this decade?"
   ]
  },
  {
   "cell_type": "markdown",
   "metadata": {},
   "source": [
    "## Background and Prior Work"
   ]
  },
  {
   "cell_type": "markdown",
   "metadata": {},
   "source": [
    "Obesity is an alarmingly increasing global public health issue today. It not only brings many complications like coronary heart disease and type 2 diabetes, but also decreases quality of life and causes discrimination [^Tiwari & Balasundaram]. While many people today are anxious about their weight and try to lose weight, it is hard for most of them to keep a good figure. There are many potential reasons why weight loss is difficult, and in this study, we will focus on one important aspect of weight loss: health awareness. We will investigate how people’s health awareness affects their weight.\n",
    "\n",
    "There are several previous studies related to our topic. Robinson et al.(2020) states in their study that the self-perception of obesity leads to social rejections, thus causing mental distress and discouraging healthy behaviors. The authors highlight how the negative effects of self-perception of overweight and obesity can contribute to the progression from overweight to obesity, with potential long-term implications for public health. So, in order to mitigate these negative impacts, interventions for improving self-perception are necessary [^Robinson et al.]. \n",
    "\n",
    "This is another study that tries to find a relationship between nutrition knowledge and weight loss. They recruited 141 Hispanic, African-American, or white participants who are mothers with obesity and family income < 200% federal poverty level from government and public health clinics and elementary schools. Eight weekly weight-loss classes about diet, physical activity, and behavior modification based on Social Cognitive Theory were administered to these mothers. The result shows that participants with weight loss ≥ 2.27kg had greater knowledge than those who did not. Thus, the study concluded that nutrition education would promote more effective weight control [^Klohe-Lehman et al.].\n",
    "\n",
    "Facing the severe global obesity issue and based on findings from above studies, we are curious about how to promote weight loss and whether health awareness is an important aspect for people to keep their weight.\n",
    "\n",
    "#### Reference\n",
    "[^Tiwari & Balasundaram]: Tiwari, A., & Balasundaram, P. (2023, March 8). Public Health Considerations Regarding Obesity. National Library of Medicine. Retrieved May 3, 2023, from www.ncbi.nlm.nih.gov/books/NBK572122/.\n",
    "\n",
    "[^Robinson et al.]: Robinson, E., Haynes, A., Sutin, A., & Daly, M. (2020). Self‐perception of overweight and obesity: A review of mental and physical health outcomes. Obesity science & practice, 6(5), 552-561. Retrieved May 3, 2023, from www.ncbi.nlm.nih.gov/pmc/articles/PMC7556430/.\n",
    "\n",
    "[^Klohe-Lehman et al.]: Klohe-Lehman, D. M., Freeland-Graves, J., Anderson, E. R., McDowell, T., Clarke, K. K., Hanss-Nuss, H., ... & Milani, T. J. (2006). Nutrition knowledge is associated with greater weight loss in obese and overweight low-income mothers. Journal of the American Dietetic Association, 106(1), 65-75. Retrieved May 3, 2023, from www.sciencedirect.com/science/article/pii/S0002822305017323?via%3Dihub."
   ]
  },
  {
   "cell_type": "markdown",
   "metadata": {},
   "source": [
    "# Hypothesis\n"
   ]
  },
  {
   "cell_type": "markdown",
   "metadata": {},
   "source": [
    "Having more health awareness (for example, valuing health care more and having more knowledge on health topics) causes an increase in people’s health of weight. \n",
    "- That is, if somebody is more conscious about their health situation, they tend to have healthier body weight.\n",
    "- Also, if somebody shows that they do not care about their health and doesn't have the awareness of keeping healthy, they will be more likely to have unhealthy body weight, either underweight or overweight. \n"
   ]
  },
  {
   "cell_type": "markdown",
   "metadata": {},
   "source": [
    "# Data"
   ]
  },
  {
   "cell_type": "markdown",
   "metadata": {},
   "source": [
    "### Ideal dataset\n",
    "\n",
    "We will look for a dataset with at least 10 thousand observations which shall come from some health-related survey. For the response variable, we want to have a metric to measure the health of one's weight. We expect it to be a metric based on BMI, so the ideal dataset should contain heights and weights or BMI directly. Generally, as healthy BMI is in the middle and unhealthy BMI (too thin or obese) is at the two ends, we consider manipulating BMI variables or having a measurement of healthy degree in the data directly. \n",
    "\n",
    "For the treatment variable, the awareness of health is too abstract to be measured, so we consider using multiple variables to build a metric of health awareness score or level. For example, the variables we might use are spending on health insurance, self-consciousness about keeping healthy, knowledge of diseases, vaccination status, etc. So the ideal dataset should contain these survey responses.\n",
    "\n",
    "For the control variables in regression, we should consider the factors which could have a correlation with body weight and not have a correlation with health consciousness. For example, parents’ health of weight, mental health, and injury history. The variables which will be used are tentative now, but we hope the dataset would be comprehensive enough to include these variables.\n",
    "\n",
    "### Data in our hand\n",
    "\n",
    "We are looking at the harmonized data from U.S. national health interview survey (URL: https://nhis.ipums.org/nhis/). It contains most of the variables we mentioned above, including BMI (categorical and numerical), health insurance, health education, etc. This data is gettable and allowed to be used for research. However, we also find that it may not contain enough content for people’s knowledge of health, so maybe we need to look for other datasets as supplements. Also, this dataset has many missing values that we need to deal with. \n"
   ]
  },
  {
   "cell_type": "markdown",
   "metadata": {},
   "source": [
    "# Ethics & Privacy"
   ]
  },
  {
   "cell_type": "markdown",
   "metadata": {},
   "source": [
    "- __Data privacy__: Data anonymization and protection of individual privacy should be priorities for the project. Any data gathered or used in the analysis should be anonymous. This implies that names or addresses or any other personally identifying information should be eliminated from the data.\n",
    "\n",
    "- __Informed consent__: If the project requires collecting data directly from subjects, they should be made aware of the study's objectives and the intended uses for their data. Before any data is collected, their consent must be obtained and they should be given the choice to opt out.\n",
    "\n",
    "- __Fairness and objectivity__: The project should be structured to reduce prejudice and guarantee objectivity in the analysis. This means that there should be no bias or discrimination present during the data collection process, such as race and gender.\n",
    "\n",
    "- __Data quality__: The project should use accurate, comprehensive, and trustworthy high-quality data. This means that the sources of the data should be carefully chosen, and that any mistakes or discrepancies in the data should be corrected.\n",
    "\n",
    "- __Transparency__: The project's techniques and conclusions should be open and transparent. This means that all assumptions and constraints should be made explicit in the analysis's documentation. To make sure that they are accessible to all stakeholders, the results should be presented in a form that is clear and understood.\n",
    "\n",
    "- __Social responsibility__: The project should take into account the findings' broader social consequences. This means that any potential negative effects should be kept to a minimum and that the initiative should be aimed to benefit society. The project should also be carried out in a way that respects people and communities and doesn't harm them.\n",
    "\n",
    "\n"
   ]
  },
  {
   "cell_type": "markdown",
   "metadata": {},
   "source": [
    "# Team Expectations "
   ]
  },
  {
   "cell_type": "markdown",
   "metadata": {},
   "source": [
    "We will try to make a good cooperation in this project. For the completion of this project, we expect everyone to contribute equally in the part they are good at. We will not ignore anyone’s effort and try to be fair on everyone’s part. Also, the finished product of the project shall meet everyone’s expectations in general. To achieve this target, we will hold meetings over the quarter to ensure that everyone is on track and works efficiently. When having difficulties or conflicts, we will discuss and decide fairly and politely, and we will not neglect anyone’s opinion. We all hope this can help us to manage to complete the project smoothly. Some tentative task distribution and contributions are below: \n",
    "\n",
    "* Xingyu Chen: writing well-commented and clear code\n",
    "* Yuchen Guo: writing the accompanying text throughout the project to explain\n",
    "* Zeyu Liu: editing the text and code\n",
    "* Rosie Peng: researching the project topic and supports\n",
    "* Zhekai Wang: searching for possible datasets"
   ]
  },
  {
   "cell_type": "markdown",
   "metadata": {},
   "source": [
    "# Project Timeline Proposal"
   ]
  },
  {
   "cell_type": "markdown",
   "metadata": {},
   "source": [
    "The tentative timeline: \n",
    "\n",
    "\n",
    "\n",
    "| Meeting Date  | Meeting Time| Completed Before Meeting  | Discuss at Meeting |\n",
    "|---|---|---|---|\n",
    "| 5/2  |  7 PM | Brainstorming the idea of the final project proposal  | The final project proposal | \n",
    "| 5/9  |  7 AM |  Finish searching the datasets | How to apply the datasets, and how we going to use it | \n",
    "| 5/16  | 7 AM  | At least some code for clean up data | Ready for data check point |\n",
    "| 5/23  | 7 PM  | Finish the codes for the datasets | How we going to visualize it |\n",
    "| 5/30  | 7 PM  | Finish the EDA | Prepare for EDA checkpoint |\n",
    "| 6/6  | 7 PM  | Finish overall project | Discuss for the final project video |\n",
    "| 6/13  | 7 PM  | Finish the project and video | Turn in everything. Hooray! |"
   ]
  },
  {
   "cell_type": "code",
   "execution_count": null,
   "metadata": {},
   "outputs": [],
   "source": []
  }
 ],
 "metadata": {
  "kernelspec": {
   "display_name": "Python 3 (ipykernel)",
   "language": "python",
   "name": "python3"
  },
  "language_info": {
   "codemirror_mode": {
    "name": "ipython",
    "version": 3
   },
   "file_extension": ".py",
   "mimetype": "text/x-python",
   "name": "python",
   "nbconvert_exporter": "python",
   "pygments_lexer": "ipython3",
   "version": "3.9.12"
  }
 },
 "nbformat": 4,
 "nbformat_minor": 2
}
