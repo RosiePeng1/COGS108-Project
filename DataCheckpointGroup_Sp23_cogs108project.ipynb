{
 "cells": [
  {
   "attachments": {},
   "cell_type": "markdown",
   "metadata": {},
   "source": [
    "# COGS 108 - Data Checkpoint"
   ]
  },
  {
   "attachments": {},
   "cell_type": "markdown",
   "metadata": {},
   "source": [
    "# Names\n",
    "\n",
    "- Xingyu Chen\n",
    "- Rosie Peng\n",
    "- Zhekai Wang\n",
    "- Thor\n",
    "- Wasp"
   ]
  },
  {
   "attachments": {},
   "cell_type": "markdown",
   "metadata": {},
   "source": [
    "<a id='research_question'></a>\n",
    "# Research Question"
   ]
  },
  {
   "attachments": {},
   "cell_type": "markdown",
   "metadata": {},
   "source": [
    "*Fill in your research question here*"
   ]
  },
  {
   "attachments": {},
   "cell_type": "markdown",
   "metadata": {},
   "source": [
    "# Dataset(s)"
   ]
  },
  {
   "attachments": {},
   "cell_type": "markdown",
   "metadata": {},
   "source": [
    "*Fill in your dataset information here*\n",
    "\n",
    "(Copy this information for each dataset)\n",
    "- Dataset Name:\n",
    "- Link to the dataset:\n",
    "- Number of observations:\n",
    "\n",
    "1-2 sentences describing each dataset. \n",
    "\n",
    "If you plan to use multiple datasets, add 1-2 sentences about how you plan to combine these datasets."
   ]
  },
  {
   "attachments": {},
   "cell_type": "markdown",
   "metadata": {},
   "source": [
    "# Setup"
   ]
  },
  {
   "cell_type": "code",
   "execution_count": 2,
   "metadata": {},
   "outputs": [
    {
     "name": "stdout",
     "output_type": "stream",
     "text": [
      "      REGION         NHISPID  PX  PERWEIGHT  SAMPWEIGHT  ASTATFLG  CSTATFLG  \\\n",
      "YEAR                                                                          \n",
      "2017       3  20170000030101   1       4000      5044.0         1         0   \n",
      "2017       3  20170000080101   1       6112         0.0         2         0   \n",
      "2017       3  20170000080102   2       3778      4808.0         0         1   \n",
      "2017       2  20170000090101   1       3143      3770.0         1         0   \n",
      "2017       2  20170000110101   1       4766         0.0         3         0   \n",
      "2017       2  20170000110102   2       4514     17305.0         1         0   \n",
      "2017       2  20170000110103   3       5298         0.0         3         0   \n",
      "2017       2  20170000110104   4       4070      4027.0         0         1   \n",
      "2017       2  20170000150101   1       4960      7383.0         1         0   \n",
      "2017       3  20170000180101   1       3868      8314.0         1         0   \n",
      "\n",
      "      AGE  SEX    BMI  ...  QUITYRS  MOD10FWK  VIG10FWK  STRONGFWK  DIETDYR  \\\n",
      "YEAR                   ...                                                    \n",
      "2017   65    2  29.30  ...       96        95         7         95        1   \n",
      "2017   27    2   0.00  ...       96         0         0          0        0   \n",
      "2017   10    1   0.00  ...       96         0         0          0        0   \n",
      "2017   19    1  23.09  ...       96        98         3          3        2   \n",
      "2017   43    2   0.00  ...       96         0         0          0        0   \n",
      "2017   45    1  35.44  ...       96         2        94          2        2   \n",
      "2017   20    2   0.00  ...       96         0         0          0        0   \n",
      "2017   13    1   0.00  ...       96         0         0          0        0   \n",
      "2017   67    2  43.13  ...        5         7         3          3        1   \n",
      "2017   40    1  32.27  ...       96         3        95         95        1   \n",
      "\n",
      "      WTPROGDYR  DIETNOW  WTPROGNOW  HRSLEEP  PCLOOKHELYR  \n",
      "YEAR                                                       \n",
      "2017          1        2          1        8            2  \n",
      "2017          0        0          0        0            0  \n",
      "2017          0        0          0        0            0  \n",
      "2017          1        2          1        6            2  \n",
      "2017          0        0          0        0            0  \n",
      "2017          1        2          1        5            1  \n",
      "2017          0        0          0        0            0  \n",
      "2017          0        0          0        0            0  \n",
      "2017          1        2          1        8            2  \n",
      "2017          1        1          1        8            1  \n",
      "\n",
      "[10 rows x 32 columns]\n"
     ]
    }
   ],
   "source": [
    "## YOUR CODE HERE\n",
    "import pandas as pd\n",
    "import numpy as np\n",
    "import requests\n",
    "url = 'https://raw.githubusercontent.com/COGS108/Group_Sp23_cogs108project/master/nhis_2017.csv?token=GHSAT0AAAAAACCXWJNLLILHUJ67SFHINF56ZDEJUNQ'\n",
    "df = pd.read_csv(url, index_col=0)\n",
    "print(df.head(10))"
   ]
  },
  {
   "attachments": {},
   "cell_type": "markdown",
   "metadata": {},
   "source": [
    "# Data Cleaning"
   ]
  },
  {
   "attachments": {},
   "cell_type": "markdown",
   "metadata": {},
   "source": [
    "Describe your data cleaning steps here."
   ]
  },
  {
   "cell_type": "code",
   "execution_count": 3,
   "metadata": {},
   "outputs": [
    {
     "data": {
      "text/plain": [
       "REGION  NHISPID         PX  PERWEIGHT  SAMPWEIGHT  ASTATFLG  CSTATFLG  AGE  SEX  BMI    BMICAT  HINOTCOVE  HINONE  MCAIDPREM  HIP1COST  ALC5UPYR  ALCAMT  CIGDAYMO  SMOKFREQNOW  SMKLSFREQNOW  QUITNO  QUITTP  QUITYRS  MOD10FWK  VIG10FWK  STRONGFWK  DIETDYR  WTPROGDYR  DIETNOW  WTPROGNOW  HRSLEEP  PCLOOKHELYR\n",
       "1       20170000410101  1   6102       0.0         2         0         49   2    0.00   9       1          1       0          4654      996       0       96        0            0             0       0       96       0         0         0          0        0          0        0          0        0              1\n",
       "3       20170436580103  3   4051       0.0         3         0         42   2    0.00   9       1          1       0          99999     996       0       96        0            0             0       0       96       0         0         0          0        0          0        0          0        0              1\n",
       "        20170436700104  4   3224       6723.0      0         1         15   1    0.00   9       1          1       1          0         996       0       96        0            0             0       0       96       0         0         0          0        0          0        0          0        0              1\n",
       "        20170436700103  3   3224       0.0         0         3         17   1    0.00   9       1          1       1          0         996       0       96        0            0             0       0       96       0         0         0          0        0          0        0          0        0              1\n",
       "        20170436700102  2   3435       0.0         3         0         57   2    0.00   9       1          1       0          6600      996       0       96        0            0             0       0       96       0         0         0          0        0          0        0          0        0              1\n",
       "                                                                                                                                                                                                                                                                                                                      ..\n",
       "2       20170435470101  1   5152       6687.0      1         0         85   1    99.99  9       1          1       0          0         0         1       96        0            0             0       0       96       14        95        95         1        1          1        1          9        1              1\n",
       "        20170435440201  1   6950       12014.0     1         0         24   1    30.70  4       1          1       1          0         996       0       96        0            0             0       0       96       5         95        3          2        1          2        1          8        1              1\n",
       "        20170435440101  1   4633       8379.0      1         0         48   1    17.37  1       1          1       1          0         996       0       96        0            0             0       0       96       2         2         7          2        1          2        1          7        1              1\n",
       "        20170435310102  2   3814       8033.0      1         0         31   2    38.35  4       1          1       0          0         0         2       96        3            0             0       0       96       3         2         95         1        1          2        1          7        1              1\n",
       "4       20170588910201  1   4598       0.0         2         0         23   1    0.00   9       2          2       0          0         996       0       96        0            0             0       0       96       0         0         0          0        0          0        0          0        0              1\n",
       "Length: 78132, dtype: int64"
      ]
     },
     "execution_count": 3,
     "metadata": {},
     "output_type": "execute_result"
    }
   ],
   "source": [
    "## YOUR CODE HERE\n",
    "df.value_counts()"
   ]
  },
  {
   "cell_type": "code",
   "execution_count": 4,
   "metadata": {},
   "outputs": [],
   "source": [
    "\n",
    "## clean dataset by remove the rows that contains BMI = 0\n",
    "data = df.loc[(df['BMI']!=0)]"
   ]
  },
  {
   "cell_type": "code",
   "execution_count": 5,
   "metadata": {},
   "outputs": [],
   "source": [
    "## clean dataset by remove the min sampleweight\n",
    "data = df.loc[(df['SAMPWEIGHT']>=1000)]"
   ]
  },
  {
   "cell_type": "code",
   "execution_count": 6,
   "metadata": {},
   "outputs": [],
   "source": [
    "## clean dataset by remove the maxium sampleweight\n",
    "data = df.loc[(df['SAMPWEIGHT']<=10000)]"
   ]
  }
 ],
 "metadata": {
  "kernelspec": {
   "display_name": "Python 3",
   "language": "python",
   "name": "python3"
  },
  "language_info": {
   "codemirror_mode": {
    "name": "ipython",
    "version": 3
   },
   "file_extension": ".py",
   "mimetype": "text/x-python",
   "name": "python",
   "nbconvert_exporter": "python",
   "pygments_lexer": "ipython3",
   "version": "3.9.13"
  }
 },
 "nbformat": 4,
 "nbformat_minor": 2
}
